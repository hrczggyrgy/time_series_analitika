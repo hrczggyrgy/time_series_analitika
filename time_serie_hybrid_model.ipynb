{
 "cells": [
  {
   "cell_type": "code",
   "execution_count": 9,
   "id": "e86924d1-066f-43f9-8e2b-a56ffb0b768c",
   "metadata": {},
   "outputs": [
    {
     "name": "stdout",
     "output_type": "stream",
     "text": [
      "Requirement already satisfied: pip in c:\\users\\lenovo_laptop\\anaconda3\\envs\\myenv\\lib\\site-packages (23.3.1)\n",
      "Collecting pip\n",
      "  Using cached pip-24.0-py3-none-any.whl.metadata (3.6 kB)\n",
      "Using cached pip-24.0-py3-none-any.whl (2.1 MB)\n",
      "Installing collected packages: pip\n",
      "  Attempting uninstall: pip\n",
      "    Found existing installation: pip 23.3.1\n",
      "    Uninstalling pip-23.3.1:\n",
      "      Successfully uninstalled pip-23.3.1\n",
      "Successfully installed pip-24.0\n",
      "Note: you may need to restart the kernel to use updated packages.\n"
     ]
    }
   ],
   "source": [
    "# Updating pip\n",
    "%pip install --upgrade pip"
   ]
  },
  {
   "cell_type": "code",
   "execution_count": 10,
   "id": "a4d7b519-4a4b-499d-80d9-4d17f9abb973",
   "metadata": {},
   "outputs": [
    {
     "name": "stdout",
     "output_type": "stream",
     "text": [
      "Unexpected exception formatting exception. Falling back to standard exception\n"
     ]
    },
    {
     "name": "stderr",
     "output_type": "stream",
     "text": [
      "Traceback (most recent call last):\n",
      "  File \"c:\\Users\\lenovo_laptop\\anaconda3\\envs\\myenv\\lib\\site-packages\\IPython\\core\\interactiveshell.py\", line 3550, in run_code\n",
      "  File \"C:\\Users\\lenovo_laptop\\AppData\\Local\\Temp\\ipykernel_436\\3970771755.py\", line 2, in <module>\n",
      "    from neuralprophet import NeuralProphet, set_log_level\n",
      "ModuleNotFoundError: No module named 'neuralprophet'\n",
      "\n",
      "During handling of the above exception, another exception occurred:\n",
      "\n",
      "Traceback (most recent call last):\n",
      "  File \"c:\\Users\\lenovo_laptop\\anaconda3\\envs\\myenv\\lib\\site-packages\\pygments\\styles\\__init__.py\", line 45, in get_style_by_name\n",
      "ModuleNotFoundError: No module named 'pygments.styles.default'\n",
      "\n",
      "During handling of the above exception, another exception occurred:\n",
      "\n",
      "Traceback (most recent call last):\n",
      "  File \"c:\\Users\\lenovo_laptop\\anaconda3\\envs\\myenv\\lib\\site-packages\\IPython\\core\\interactiveshell.py\", line 2144, in showtraceback\n",
      "  File \"c:\\Users\\lenovo_laptop\\anaconda3\\envs\\myenv\\lib\\site-packages\\IPython\\core\\ultratb.py\", line 1435, in structured_traceback\n",
      "  File \"c:\\Users\\lenovo_laptop\\anaconda3\\envs\\myenv\\lib\\site-packages\\IPython\\core\\ultratb.py\", line 1326, in structured_traceback\n",
      "  File \"c:\\Users\\lenovo_laptop\\anaconda3\\envs\\myenv\\lib\\site-packages\\IPython\\core\\ultratb.py\", line 1173, in structured_traceback\n",
      "  File \"c:\\Users\\lenovo_laptop\\anaconda3\\envs\\myenv\\lib\\site-packages\\IPython\\core\\ultratb.py\", line 1063, in format_exception_as_a_whole\n",
      "  File \"c:\\Users\\lenovo_laptop\\anaconda3\\envs\\myenv\\lib\\site-packages\\IPython\\core\\ultratb.py\", line 1114, in get_records\n",
      "  File \"c:\\Users\\lenovo_laptop\\anaconda3\\envs\\myenv\\lib\\site-packages\\pygments\\styles\\__init__.py\", line 47, in get_style_by_name\n",
      "pygments.util.ClassNotFound: Could not find style module 'pygments.styles.default', though it should be builtin.\n"
     ]
    }
   ],
   "source": [
    "# Import required libraries\n",
    "from neuralprophet import NeuralProphet, set_log_level\n",
    "import pandas as pd\n",
    "\n",
    "# Disable logging messages\n",
    "set_log_level(\"ERROR\")\n",
    "\n",
    "# Load and preprocess data\n",
    "dfa = pd.read_csv(\"aggregated_daily_sales.csv\")\n",
    "# Select the needed columns from the dataframe\n",
    "df = dfa[[\"ds\", \"y\"]]\n",
    "# Drop duplicates and ensure \"ds\" column is datetime format\n",
    "df = df.drop_duplicates(subset=\"ds\").assign(ds=lambda x: pd.to_datetime(x[\"ds\"]))\n",
    "\n",
    "# Model configuration\n",
    "confidence_level = 0.9\n",
    "boundaries = round((1 - confidence_level) / 2, 2)\n",
    "quantiles = [boundaries, 1 - boundaries]\n",
    "\n",
    "# Initialize model with quantiles and set plotting backend to plotly\n",
    "m = NeuralProphet(quantiles=quantiles)\n",
    "m.set_plotting_backend(\"plotly\")\n",
    "\n",
    "# Add country holidays and custom events\n",
    "m.add_country_holidays(\"EC\")\n",
    "m.add_events([\"earthquake\"])\n",
    "\n",
    "# Prepare events dataframe\n",
    "earthquake_dates = [\"2016-04-17\", \"2016-04-18\", \"2016-04-19\", \"2016-04-20\"]\n",
    "df_events = pd.DataFrame(\n",
    "    {\"event\": \"earthquake\", \"ds\": pd.to_datetime(earthquake_dates)}\n",
    ")\n",
    "\n",
    "df_all = m.create_df_with_events(df, df_events)\n",
    "\n",
    "# Fit the model and perform forecasting\n",
    "metrics = m.fit(df_all)\n",
    "df_future = m.make_future_dataframe(df_all, periods=365, n_historic_predictions=True)\n",
    "forecast = m.predict(df_future)\n",
    "\n",
    "# plotting\n"
   ]
  },
  {
   "cell_type": "code",
   "execution_count": null,
   "id": "a211d990-98e9-499d-92f6-520bd72cdebf",
   "metadata": {},
   "outputs": [],
   "source": [
    "# Import required libraries\n",
    "from neuralprophet import NeuralProphet, set_log_level\n",
    "import pandas as pd\n",
    "\n",
    "# Disable logging messages\n",
    "set_log_level(\"ERROR\")\n",
    "\n",
    "# Load and preprocess data\n",
    "dfa = pd.read_csv(\"aggregated_daily_sales.csv\")\n",
    "# Select the needed columns from the dataframe\n",
    "df = dfa[[\"ds\", \"y\"]]\n",
    "# Drop duplicates and ensure \"ds\" column is datetime format\n",
    "df = df.drop_duplicates(subset=\"ds\").assign(ds=lambda x: pd.to_datetime(x[\"ds\"]))\n",
    "\n",
    "# Model configuration\n",
    "confidence_level = 0.9\n",
    "boundaries = round((1 - confidence_level) / 2, 2)\n",
    "quantiles = [boundaries, 1 - boundaries]\n",
    "\n",
    "# Initialize model with quantiles and set plotting backend to plotly\n",
    "m = NeuralProphet(quantiles=quantiles)\n",
    "m.set_plotting_backend(\"plotly\")\n",
    "\n",
    "# Add country holidays and custom events\n",
    "m.add_country_holidays(\"EC\")\n",
    "m.add_events([\"earthquake\"])\n",
    "\n",
    "# Prepare events dataframe\n",
    "earthquake_dates = [\"2016-04-17\", \"2016-04-18\", \"2016-04-19\", \"2016-04-20\"]\n",
    "df_events = pd.DataFrame(\n",
    "    {\"event\": \"earthquake\", \"ds\": pd.to_datetime(earthquake_dates)}\n",
    ")\n",
    "\n",
    "df_all = m.create_df_with_events(df, df_events)\n",
    "\n",
    "# Fit the model and perform forecasting\n",
    "metrics = m.fit(df_all)\n",
    "df_future = m.make_future_dataframe(df_all, periods=365, n_historic_predictions=True)\n",
    "forecast = m.predict(df_future)\n",
    "\n",
    "# plotting\n"
   ]
  },
  {
   "cell_type": "code",
   "execution_count": null,
   "id": "ecd8c598-1ee1-4059-b85e-cf053d9fe79b",
   "metadata": {},
   "outputs": [],
   "source": [
    "import numpy as np\n",
    "from neuralforecast.models import NBEATSx\n",
    "from neuralforecast.losses.pytorch import DistributionLoss\n",
    "from neuralforecast import NeuralForecast\n",
    "import matplotlib.pyplot as plt\n",
    "import pandas as pd\n",
    "\n",
    "# Process df DataFrame to obtain dataset for the whole period\n",
    "residuals_df = df.copy()\n",
    "residuals_df[\"residuals\"] = df[\"y\"] - forecast['yhat1'] # Adjust to use forecasted values for residuals calculation\n",
    "residuals_df[\"unique_id\"] = \"1\"\n",
    "residuals_df = residuals_df[[\"ds\", \"residuals\", \"unique_id\"]]\n",
    "\n",
    "# Instantiate the NBEATSx model with pre-defined parameters\n",
    "model = NBEATSx(\n",
    "    h=99,\n",
    "    input_size=24,\n",
    "    loss=DistributionLoss(distribution=\"Normal\", level=[80, 90]),\n",
    "    scaler_type=\"robust\",\n",
    "    max_steps=200,\n",
    "    val_check_steps=100,\n",
    "    batch_size=32,\n",
    "    windows_batch_size=1024,\n",
    "    random_seed=1,\n",
    ")\n",
    "nf = NeuralForecast(models=[model], freq=\"D\")\n",
    "\n",
    "# Fit and predict using NeuralForecast\n",
    "nf.fit(residuals_df, id_col=\"unique_id\", time_col=\"ds\", target_col=\"residuals\")\n",
    "y_hat = nf.predict(residuals_df)\n",
    "\n",
    "# Visualization of residuals and forecast\n",
    "fig, ax = plt.subplots(figsize=(10, 5))\n",
    "ax.plot(residuals_df[\"ds\"], residuals_df[\"residuals\"], label=\"Residuals\")\n",
    "ax.plot(y_hat[\"ds\"], y_hat[\"NBEATSx\"], label=\"Forecast\", color=\"#7B3841\")\n",
    "ax.legend()\n",
    "ax.set_xlabel(\"Timestamp [t]\")\n",
    "ax.set_ylabel(\"Residuals [t]\")\n",
    "plt.show()"
   ]
  }
 ],
 "metadata": {
  "kernelspec": {
   "display_name": "Python 3 (ipykernel)",
   "language": "python",
   "name": "python3"
  },
  "language_info": {
   "codemirror_mode": {
    "name": "ipython",
    "version": 3
   },
   "file_extension": ".py",
   "mimetype": "text/x-python",
   "name": "python",
   "nbconvert_exporter": "python",
   "pygments_lexer": "ipython3",
   "version": "3.9.19"
  },
  "widgets": {
   "application/vnd.jupyter.widget-state+json": {
    "state": {},
    "version_major": 2,
    "version_minor": 0
   }
  }
 },
 "nbformat": 4,
 "nbformat_minor": 5
}
